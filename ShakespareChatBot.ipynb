{
  "nbformat": 4,
  "nbformat_minor": 0,
  "metadata": {
    "colab": {
      "name": "ShakespareChatBot.ipynb",
      "version": "0.3.2",
      "provenance": [],
      "collapsed_sections": [],
      "include_colab_link": true
    },
    "kernelspec": {
      "name": "python3",
      "display_name": "Python 3"
    }
  },
  "cells": [
    {
      "cell_type": "markdown",
      "metadata": {
        "id": "view-in-github",
        "colab_type": "text"
      },
      "source": [
        "<a href=\"https://colab.research.google.com/github/TimSim/SimpleChatBot/blob/master/ShakespareChatBot.ipynb\" target=\"_parent\"><img src=\"https://colab.research.google.com/assets/colab-badge.svg\" alt=\"Open In Colab\"/></a>"
      ]
    },
    {
      "metadata": {
        "id": "z7oDrG-wik4_",
        "colab_type": "code",
        "colab": {}
      },
      "cell_type": "code",
      "source": [
        "import tensorflow as tf\n",
        "device_name = tf.test.gpu_device_name()\n",
        "if device_name != '/device:GPU:0':\n",
        "  raise SystemError('GPU device not found')\n",
        "print('Found GPU at: {}'.format(device_name))"
      ],
      "execution_count": 0,
      "outputs": []
    },
    {
      "metadata": {
        "id": "is77aRQJi7KK",
        "colab_type": "text"
      },
      "cell_type": "markdown",
      "source": [
        "2. Installing Libraries\n",
        "\n",
        "Currently, software installations within Google Colaboratory are not persistent, in that you must reinstall libraries every time you (re-)connect to an instance. Since Colab has numerous useful common libraries installed by default, this is less of an issue than it may seem, and installing those libraries which are not pre-installed are easily added in one of a few different ways.\n",
        "\n",
        "\n",
        "You will want to be aware, however, that installing any software which needs to be built from source may take longer than is feasible when connecting/reconnecting to your instance.\n",
        "\n",
        "Colab supports both the pip and apt package managers. Regardless of which you are using, remember to prepend any bash commands with a !."
      ]
    },
    {
      "metadata": {
        "id": "GUBmRczDDOkN",
        "colab_type": "code",
        "colab": {
          "base_uri": "https://localhost:8080/",
          "height": 101
        },
        "outputId": "7fa31522-1e5f-4905-e80b-35f7540a899c"
      },
      "cell_type": "code",
      "source": [
        "!pip install pandas"
      ],
      "execution_count": 4,
      "outputs": [
        {
          "output_type": "stream",
          "text": [
            "Requirement already satisfied: pandas in /usr/local/lib/python3.6/dist-packages (0.22.0)\n",
            "Requirement already satisfied: numpy>=1.9.0 in /usr/local/lib/python3.6/dist-packages (from pandas) (1.14.6)\n",
            "Requirement already satisfied: python-dateutil>=2 in /usr/local/lib/python3.6/dist-packages (from pandas) (2.5.3)\n",
            "Requirement already satisfied: pytz>=2011k in /usr/local/lib/python3.6/dist-packages (from pandas) (2018.7)\n",
            "Requirement already satisfied: six>=1.5 in /usr/local/lib/python3.6/dist-packages (from python-dateutil>=2->pandas) (1.11.0)\n"
          ],
          "name": "stdout"
        }
      ]
    },
    {
      "metadata": {
        "id": "76W9fl2TClCY",
        "colab_type": "code",
        "colab": {}
      },
      "cell_type": "code",
      "source": [
        "# import os\n",
        "# RaNDOM\n",
        "import random\n",
        "#clock training time\n",
        "import datetime \n",
        "# Numpy for vectorization\n",
        "import numpy as np\n",
        "# Tensorflow for ML\n",
        "import tensorflow as tf\n",
        "# Pandas for file reading/ visualize data\n",
        "import pandas as pd\n",
        "# Seaborn as the great data visualizer\n",
        "import seaborn as sns\n",
        "#Matplot to visualize data, also Seaborn and pandas do this\n",
        "import matplotlib.pyplot as plt\n",
        "# Inline to show images in jupyter notebook\n",
        "%matplotlib inline\n",
        "\n",
        "# Set number of columns to show in the notebook\n",
        "pd.set_option('display.max_columns', 600)\n",
        "# Set number of rows to show in the notebook\n",
        "pd.set_option('display.max_rows', 50)\n",
        "# Make the graphs a bit prettier\n",
        "#pd.set_option('display.mpl_style', 'default') "
      ],
      "execution_count": 0,
      "outputs": []
    },
    {
      "metadata": {
        "id": "a4Qd65e8jrGs",
        "colab_type": "text"
      },
      "cell_type": "markdown",
      "source": [
        ""
      ]
    },
    {
      "metadata": {
        "id": "DUxVlDQdjunD",
        "colab_type": "code",
        "colab": {}
      },
      "cell_type": "code",
      "source": [
        "# Grab the shakespeare data\n",
        "allData = pd.read_csv('./Data/Shakespeare_data.csv', sep=',')\n",
        "allData.columns = [\"Dataline\",\"Play\",\"PlayerLinenumber\",\"ActSceneLine\",\"Player\",\"PlayerLine\"]\n",
        "allData = list(allData.PlayerLine)"
      ],
      "execution_count": 0,
      "outputs": []
    },
    {
      "metadata": {
        "id": "niKdfyrfj7Wi",
        "colab_type": "code",
        "colab": {}
      },
      "cell_type": "code",
      "source": [
        "# Converting the dataframe to a single string\n",
        "textLines = ''.join(allData)\n",
        "print('text length in number of characters:', len(textLines))"
      ],
      "execution_count": 0,
      "outputs": []
    },
    {
      "metadata": {
        "id": "0494qQ4Pj-6k",
        "colab_type": "code",
        "colab": {}
      },
      "cell_type": "code",
      "source": [
        "chars = sorted(list(set(textLines)))\n",
        "char_size = len(chars)\n",
        "print('number of characters:', char_size)\n",
        "print(chars)\n",
        "# print(textLines)"
      ],
      "execution_count": 0,
      "outputs": []
    },
    {
      "metadata": {
        "id": "2r6VMhg9kCbb",
        "colab_type": "code",
        "colab": {}
      },
      "cell_type": "code",
      "source": [
        "char2id = dict((c, i) for i, c in enumerate(chars))\n",
        "id2char = dict((i, c) for i, c in enumerate(chars))"
      ],
      "execution_count": 0,
      "outputs": []
    },
    {
      "metadata": {
        "id": "s1o_J_vdkFij",
        "colab_type": "code",
        "colab": {}
      },
      "cell_type": "code",
      "source": [
        "#Given a probability of each character, return a likely character, one-hot encoded\n",
        "def sample(prediction):\n",
        "    r = random.uniform(0,1)\n",
        "    s = 0\n",
        "    char_id = len(prediction) - 1\n",
        "    for i in range(len(prediction)):\n",
        "        s += prediction[i]\n",
        "        if s >= r:\n",
        "            char_id = i\n",
        "            break\n",
        "    char_one_hot = np.zeros(shape=[char_size])\n",
        "    char_one_hot[char_id] = 1.0\n",
        "    return char_one_hot"
      ],
      "execution_count": 0,
      "outputs": []
    },
    {
      "metadata": {
        "id": "Qzq986cKkIhT",
        "colab_type": "code",
        "colab": {}
      },
      "cell_type": "code",
      "source": [
        "#vectorize our data to feed it into model\n",
        "\n",
        "len_per_section = 15\n",
        "skip = 5\n",
        "sections = []\n",
        "next_chars = []\n",
        "#fill sections list with chunks of text, every 10 characters create a new 20 \n",
        "#character long section\n",
        "#because we are generating it at a character level\n",
        "for i in range(0, len(textLines) - len_per_section, skip):\n",
        "    sections.append(textLines[i: i + len_per_section])\n",
        "    next_chars.append(textLines[i + len_per_section])\n",
        "    \n",
        "print(len(sections), len_per_section, char_size)\n",
        "    \n",
        "#Vectorize input and output\n",
        "#matrix of section length by num of characters\n",
        "X = np.zeros((len(sections), len_per_section, char_size))\n",
        "#label column for all the character id's, still zero\n",
        "y = np.zeros((len(sections), char_size))\n",
        "#for each char in each section, convert each char to an ID\n",
        "#for each section convert the labels to ids \n",
        "\n",
        "#for i, section in enumerate(sections):\n",
        "#    for j, char in enumerate(section):\n",
        "#        X[i, j, char2id[char]] = 1\n",
        "#    y[i, char2id[next_chars[i]]] = 1\n",
        "#print(y)"
      ],
      "execution_count": 0,
      "outputs": []
    },
    {
      "metadata": {
        "id": "gsn827OqkLtT",
        "colab_type": "code",
        "colab": {}
      },
      "cell_type": "code",
      "source": [
        "batch_size = 512\n",
        "max_steps = 500000\n",
        "log_every = 7000\n",
        "test_every = 25000\n",
        "hidden_nodes = 1024\n",
        "test_start = 'Will '\n",
        "checkpoint_directory = 'ckpt'\n",
        "\n",
        "#Create a checkpoint directory\n",
        "if tf.gfile.Exists(checkpoint_directory):\n",
        "    tf.gfile.DeleteRecursively(checkpoint_directory)\n",
        "tf.gfile.MakeDirs(checkpoint_directory)\n",
        "\n",
        "print('training data size:', len(X))\n",
        "print('approximate steps per epoch:', int(len(X)/batch_size))"
      ],
      "execution_count": 0,
      "outputs": []
    },
    {
      "metadata": {
        "id": "Y8qHjaQtkOeU",
        "colab_type": "code",
        "colab": {}
      },
      "cell_type": "code",
      "source": [
        "#build our model time\n",
        "#create computation graph\n",
        "graph = tf.Graph()\n",
        "#if multiple graphs, but none here jsut one\n",
        "with graph.as_default():\n",
        "    ###########\n",
        "    #Prep\n",
        "    ###########\n",
        "    #Variables and placeholders\n",
        "    #global_step refer to the number of batches seen by the graph. \n",
        "    #Everytime a batch is provided, the weights are updated in the \n",
        "    #direction that minimizes the loss. global_step just keeps track \n",
        "    #of the number of batches seen so far starts off as 0\n",
        "    global_step = tf.Variable(0)\n",
        "    \n",
        "    #data tensor shape feeding in sections\n",
        "    data = tf.placeholder(tf.float32, [batch_size, len_per_section, char_size])\n",
        "    #labels\n",
        "    labels = tf.placeholder(tf.float32, [batch_size, char_size])\n",
        "    \n",
        "    #An LSTM RNN (Long Short Term Memory), consists of 3 gates and an internal state, \n",
        "    #This enables the LSTM to capture long-term dependencies. \n",
        "    #http://suriyadeepan.github.io/2017-02-13-unfolding-rnn-2/\n",
        "    #lets build weights and biases for each of the 3 gates and then for the cell state\n",
        "    \n",
        "    #tf variables\n",
        "    #Since we need the weights and biases for our model. \n",
        "    #We could imagine treating these like additional inputs, \n",
        "    #but TensorFlow has an even better way to handle it: Variable\n",
        "    #A Variable is a modifiable tensor that lives in TensorFlow's graph of \n",
        "    #interacting operations. It can be used and even modified by the computation. \n",
        "    #For machine learning applications, one generally has the model parameters be Variables.\n",
        "    \n",
        "    #Prep LSTM Operation\n",
        "    #Input gate: weights for input, weights for previous output, and bias\n",
        "    \n",
        "    #tf truncated normal\n",
        "    #Outputs random values from a truncated normal distribution.\n",
        "    #The generated values follow a normal distribution with specified mean and \n",
        "    #standard deviation, except that values whose magnitude is more than 2 standard deviations\n",
        "    #from the mean are dropped and re-picked.\n",
        "    #basically randomly initialized values here\n",
        "    \n",
        "    #biases act as an anchor\n",
        "\n",
        "    w_ii = tf.Variable(tf.truncated_normal([char_size, hidden_nodes], -0.1, 0.1))\n",
        "    w_io = tf.Variable(tf.truncated_normal([hidden_nodes, hidden_nodes], -0.1, 0.1))\n",
        "    b_i = tf.Variable(tf.zeros([1, hidden_nodes]))\n",
        "    #Forget gate: weights for input, weights for previous output, and bias\n",
        "    w_fi = tf.Variable(tf.truncated_normal([char_size, hidden_nodes], -0.1, 0.1))\n",
        "    w_fo = tf.Variable(tf.truncated_normal([hidden_nodes, hidden_nodes], -0.1, 0.1))\n",
        "    b_f = tf.Variable(tf.zeros([1, hidden_nodes]))\n",
        "    #Output gate: weights for input, weights for previous output, and bias\n",
        "    w_oi = tf.Variable(tf.truncated_normal([char_size, hidden_nodes], -0.1, 0.1))\n",
        "    w_oo = tf.Variable(tf.truncated_normal([hidden_nodes, hidden_nodes], -0.1, 0.1))\n",
        "    b_o = tf.Variable(tf.zeros([1, hidden_nodes]))\n",
        "    #Memory cell: weights for input, weights for previous output, and bias\n",
        "    w_ci = tf.Variable(tf.truncated_normal([char_size, hidden_nodes], -0.1, 0.1))\n",
        "    w_co = tf.Variable(tf.truncated_normal([hidden_nodes, hidden_nodes], -0.1, 0.1))\n",
        "    b_c = tf.Variable(tf.zeros([1, hidden_nodes]))\n",
        "    \n",
        "    \n",
        "    #LSTM Cell\n",
        "    # given input, output, external state, it will return output and state\n",
        "    #output starts off empty, LSTM cell calculates it\n",
        "    \n",
        "    #Since, we have two kinds of states - the internal state ct \n",
        "    #and the (exposed) external state st, and since we need both of \n",
        "    #them for the subsequent sequential operations, we combine them \n",
        "    #into a tensor at each step, and pass them as input to the next \n",
        "    #step. This tensor is unpacked into st_1 and ct_1 at the beginning of each step.\n",
        "    \n",
        "    \n",
        "    def lstm(i, o, state):\n",
        "        \n",
        "        #these are all calculated seperately, no overlap until....\n",
        "        #(input * input weights) + (output * weights for previous output) + bias\n",
        "        input_gate = tf.sigmoid(tf.matmul(i, w_ii) + tf.matmul(o, w_io) + b_i)\n",
        "        #(input * forget weights) + (output * weights for previous output) + bias\n",
        "        forget_gate = tf.sigmoid(tf.matmul(i, w_fi) + tf.matmul(o, w_fo) + b_f)\n",
        "        #(input * output weights) + (output * weights for previous output) + bias\n",
        "        output_gate = tf.sigmoid(tf.matmul(i, w_oi) + tf.matmul(o, w_oo) + b_o)\n",
        "        #(input * internal state weights) + (output * weights for previous output) + bias\n",
        "        memory_cell = tf.sigmoid(tf.matmul(i, w_ci) + tf.matmul(o, w_co) + b_c)\n",
        "        \n",
        "        #...now! multiply forget gate * given state    +  input gate * hidden state\n",
        "        state = forget_gate * state + input_gate * memory_cell\n",
        "        #squash that state with tanh nonlin (Computes hyperbolic tangent of x element-wise)\n",
        "        #multiply by output\n",
        "        output = output_gate * tf.tanh(state)\n",
        "        #return \n",
        "        return output, state\n",
        "    \n",
        "    ###########\n",
        "    #Operation\n",
        "    ###########\n",
        "    #LSTM\n",
        "    #both start off as empty, LSTM will calculate this\n",
        "    output = tf.zeros([batch_size, hidden_nodes])\n",
        "    state = tf.zeros([batch_size, hidden_nodes])\n",
        "\n",
        "    #unrolled LSTM loop\n",
        "    #for each input set\n",
        "    for i in range(len_per_section):\n",
        "        #calculate state and output from LSTM\n",
        "        output, state = lstm(data[:, i, :], output, state)\n",
        "        #to start, \n",
        "        if i == 0:\n",
        "            #store initial output and labels\n",
        "            outputs_all_i = output\n",
        "            labels_all_i = data[:, i+1, :]\n",
        "        #for each new set, concat outputs and labels\n",
        "        elif i != len_per_section - 1:\n",
        "            #concatenates (combines) vectors along a dimension axis, not multiply\n",
        "            outputs_all_i = tf.concat([outputs_all_i, output], 0)\n",
        "            labels_all_i = tf.concat([labels_all_i, data[:, i+1, :]], 0)\n",
        "        else:\n",
        "            #final store\n",
        "            outputs_all_i = tf.concat([outputs_all_i, output], 0)\n",
        "            labels_all_i = tf.concat([labels_all_i, labels], 0)\n",
        "        \n",
        "    #Classifier\n",
        "    #The Classifier will only run after saved_output and saved_state were assigned.\n",
        "    \n",
        "    #calculate weight and bias values for the network\n",
        "    #generated randomly given a size and distribution\n",
        "    w = tf.Variable(tf.truncated_normal([hidden_nodes, char_size], -0.1, 0.1))\n",
        "    b = tf.Variable(tf.zeros([char_size]))\n",
        "    #Logits simply means that the function operates on the unscaled output \n",
        "    #of earlier layers and that the relative scale to understand the units \n",
        "    #is linear. It means, in particular, the sum of the inputs may not equal 1, \n",
        "    #that the values are not probabilities (you might have an input of 5).\n",
        "    logits = tf.matmul(outputs_all_i, w) + b\n",
        "    \n",
        "    #logits is our prediction outputs, lets compare it with our labels\n",
        "    #cross entropy since multiclass classification\n",
        "    #computes the cost for a softmax layer\n",
        "    #then Computes the mean of elements across dimensions of a tensor.\n",
        "    #average loss across all values\n",
        "    loss = tf.reduce_mean(tf.nn.softmax_cross_entropy_with_logits(labels=labels_all_i, logits=logits))\n",
        "\n",
        "    #Optimizer\n",
        "    #minimize loss with graident descent, learning rate 10,  keep track of batches\n",
        "    optimizer = tf.train.GradientDescentOptimizer(10.).minimize(loss, global_step=global_step)\n",
        "    \n",
        "    ###########\n",
        "    #Test\n",
        "    ###########\n",
        "    test_data = tf.placeholder(tf.float32, shape=[1, char_size])\n",
        "    test_output = tf.Variable(tf.zeros([1, hidden_nodes]))\n",
        "    test_state = tf.Variable(tf.zeros([1, hidden_nodes]))\n",
        "    \n",
        "    #Reset at the beginning of each test\n",
        "    reset_test_state = tf.group(test_output.assign(tf.zeros([1, hidden_nodes])), \n",
        "                                test_state.assign(tf.zeros([1, hidden_nodes])))\n",
        "\n",
        "    #LSTM\n",
        "    test_output, test_state = lstm(test_data, test_output, test_state)\n",
        "    test_prediction = tf.nn.softmax(tf.matmul(test_output, w) + b)"
      ],
      "execution_count": 0,
      "outputs": []
    },
    {
      "metadata": {
        "id": "-6ZW5f4ykSnc",
        "colab_type": "code",
        "colab": {}
      },
      "cell_type": "code",
      "source": [
        "with tf.Session(graph=graph) as sess:\n",
        "    tf.global_variables_initializer().run()\n",
        "    offset = 0\n",
        "    saver = tf.train.Saver()\n",
        "    TF_MIN_GPU_MULTIPROCESSOR_COUNT=4\n",
        "    for step in range(max_steps):\n",
        "        offset = offset % len(X)\n",
        "        if offset <= (len(X) - batch_size):\n",
        "            batch_data = X[offset: offset + batch_size]\n",
        "            batch_labels = y[offset: offset + batch_size]\n",
        "            offset += batch_size\n",
        "        else:\n",
        "            to_add = batch_size - (len(X) - offset)\n",
        "            batch_data = np.concatenate((X[offset: len(X)], X[0: to_add]))\n",
        "            batch_labels = np.concatenate((y[offset: len(X)], y[0: to_add]))\n",
        "            offset = to_add\n",
        "        _, training_loss = sess.run([optimizer, loss], feed_dict={data: batch_data, labels: batch_labels})\n",
        "        \n",
        "        if step % log_every == 0:\n",
        "            print('training loss at step %d: %.2f (%s)' % (step, training_loss, datetime.datetime.now()))\n",
        "\n",
        "            if step % test_every == 0:\n",
        "                reset_test_state.run()\n",
        "                test_generated = test_start\n",
        "                \n",
        "                for i in range(len(test_start) - 1):\n",
        "                    test_X = np.zeros((1, char_size))\n",
        "                    test_X[0, char2id[test_start[i]]] = 1.\n",
        "                    _ = sess.run(test_prediction, feed_dict={test_data: test_X})\n",
        "                \n",
        "                test_X = np.zeros((1, char_size))\n",
        "                test_X[0, char2id[test_start[-1]]] = 1.\n",
        "                \n",
        "                for i in range(500):\n",
        "                    prediction = test_prediction.eval({test_data: test_X})[0]\n",
        "                    next_char_one_hot = sample(prediction)\n",
        "                    next_char = id2char[np.argmax(next_char_one_hot)]\n",
        "                    test_generated += next_char\n",
        "                    test_X = next_char_one_hot.reshape((1, char_size))\n",
        "                    \n",
        "                print('=' * 80)\n",
        "                print(test_generated)\n",
        "                print('=' * 80)\n",
        "                \n",
        "                saver.save(sess, checkpoint_directory + '/model', global_step=step)"
      ],
      "execution_count": 0,
      "outputs": []
    },
    {
      "metadata": {
        "id": "2yb41C-1kWQk",
        "colab_type": "code",
        "colab": {}
      },
      "cell_type": "code",
      "source": [
        "# To try your own text uncomment this!\n",
        "\n",
        "'''\n",
        "test_start = 'Text goes here'\n",
        "\n",
        "with tf.Session(graph=graph) as sess:\n",
        "    #init graph, load model\n",
        "    tf.global_variables_initializer().run()\n",
        "    model = tf.train.latest_checkpoint(checkpoint_directory)\n",
        "    saver = tf.train.Saver()\n",
        "    saver.restore(sess, \"model-name\")\n",
        "\n",
        "    #set input variable to generate chars from\n",
        "    reset_test_state.run() \n",
        "    test_generated = test_start\n",
        "\n",
        "    #for every char in the input sentennce\n",
        "    for i in range(len(test_start) - 1):\n",
        "        #initialize an empty char store\n",
        "        test_X = np.zeros((1, char_size))\n",
        "        #store it in id from\n",
        "        test_X[0, char2id[test_start[i]]] = 1.\n",
        "        #feed it to model, test_prediction is the output value\n",
        "        _ = sess.run(test_prediction, feed_dict={test_data: test_X})\n",
        "\n",
        "    \n",
        "    #where we store encoded char predictions\n",
        "    test_X = np.zeros((1, char_size))\n",
        "    test_X[0, char2id[test_start[-1]]] = 1.\n",
        "\n",
        "    #lets generate 500 characters\n",
        "    for i in range(500):\n",
        "        #get each prediction probability\n",
        "        prediction = test_prediction.eval({test_data: test_X})[0]\n",
        "        #one hot encode it\n",
        "        next_char_one_hot = sample(prediction)\n",
        "        #get the indices of the max values (highest probability)  and convert to char\n",
        "        next_char = id2char[np.argmax(next_char_one_hot)]\n",
        "        #add each char to the output text iteratively\n",
        "        test_generated += next_char\n",
        "        #update the \n",
        "        test_X = next_char_one_hot.reshape((1, char_size))\n",
        "\n",
        "    print(test_generated)\n",
        "'''"
      ],
      "execution_count": 0,
      "outputs": []
    }
  ]
}